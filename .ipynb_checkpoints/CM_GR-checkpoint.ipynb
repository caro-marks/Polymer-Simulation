{
 "cells": [
  {
   "cell_type": "code",
   "execution_count": 1,
   "metadata": {},
   "outputs": [],
   "source": [
    "import pandas as pd\n",
    "import matplotlib.pyplot as plt\n",
    "import seaborn as sns; sns.set()"
   ]
  },
  {
   "cell_type": "code",
   "execution_count": 2,
   "metadata": {},
   "outputs": [],
   "source": [
    "beads_range=[x for x in range(10,50,4) if x not in (38,46)] # # # #    monomer's range\n",
    "dens_range=[x/100 for x in range(0,81,5) if x>0] # # # #    dens' range\n",
    "frac_range=[x/100 for x in range(0,100,25) if x!=0] # # # #    frac' range\n",
    "inters = ('blocos_fobicos', 'chain_cm', 'blocos_filicos')"
   ]
  },
  {
   "cell_type": "code",
   "execution_count": 3,
   "metadata": {},
   "outputs": [],
   "source": [
    "def Data_2(inter, bead, frac, dens):\n",
    "    file = f'./centros_de_massas/{inter}/rdfs/f-{frac}_b-{bead}_d-{dens}.txt'\n",
    "    data = pd.read_table(file, sep='\\s+', header = 1)\n",
    "    data.columns = ['Pair Separation Distance', 'g(r)','NaN']\n",
    "    data = data.drop(columns='NaN')\n",
    "    return data"
   ]
  },
  {
   "cell_type": "code",
   "execution_count": 4,
   "metadata": {},
   "outputs": [],
   "source": [
    "# for b in Beads_range:\n",
    "# #     for f in Frac_range:\n",
    "# #         f = int((1-f)*10%10)\n",
    "#     x = Data_2('chain_cm', b, 5, 0.55)['Pair Separation Distance']\n",
    "#     y = Data_2('chain_cm', b, 5, 0.55)['g(r)']\n",
    "#     y1 = Data_2('blocos_fobicos', b, 5, 0.55)['g(r)']\n",
    "#     y0 = Data_2('blocos_filicos', b, 5, 0.55)['g(r)']\n",
    "\n",
    "#     plt.plot(x,y,label='all chain'); plt.plot(x,y0,label='filicos'); plt.plot(x,y1,label='fobicos');\n",
    "\n",
    "#     plt.xlabel(\"r\"); plt.ylabel('g(r)');\n",
    "#     plt.title('bead '+str(b))\n",
    "#     plt.legend(loc=0, ncol=1);\n",
    "#     #     plt.savefig('./results/snapshots/coordination_analysis/f_'+str(Frac)+'/b_'+str(Bead)+'/d_'+str(D)+'.png');\n",
    "#     plt.show()"
   ]
  },
  {
   "cell_type": "code",
   "execution_count": 5,
   "metadata": {},
   "outputs": [],
   "source": [
    "# for d in Dens_range:\n",
    "# #     for f in Frac_range:\n",
    "# #         f = int((1-f)*10%10)\n",
    "#     x = Data_2('chain_cm', 34, 5, d)['Pair Separation Distance']\n",
    "#     y = Data_2('chain_cm', 34, 5, d)['g(r)']\n",
    "#     y1 = Data_2('blocos_fobicos', 34, 5, d)['g(r)']\n",
    "#     y0 = Data_2('blocos_filicos', 34, 5, d)['g(r)']\n",
    "\n",
    "#     plt.plot(x,y,label='all chain'); plt.plot(x,y0,label='filicos'); plt.plot(x,y1,label='fobicos');\n",
    "\n",
    "#     plt.xlabel(\"r\"); plt.ylabel('g(r)');\n",
    "#     plt.title('dens '+str(d))\n",
    "#     plt.legend(loc=0, ncol=1);\n",
    "#     #     plt.savefig('./results/snapshots/coordination_analysis/f_'+str(Frac)+'/b_'+str(Bead)+'/d_'+str(D)+'.png');\n",
    "#     plt.show()"
   ]
  },
  {
   "cell_type": "code",
   "execution_count": 6,
   "metadata": {},
   "outputs": [],
   "source": [
    "# for f in Frac_range:\n",
    "    \n",
    "#     f = int((1-f)*10%10)\n",
    "#     x = Data_2('chain_cm', 30, f, Dens_range[0])['Pair Separation Distance']\n",
    "    \n",
    "#     for i in inters:        \n",
    "        \n",
    "#         y0 = Data_2(i, 30, f, Dens_range[0])['g(r)']; plt.plot(x,y0,label=Dens_range[0])\n",
    "#         y1 = Data_2(i, 30, f, Dens_range[1])['g(r)']; plt.plot(x,y1,label=Dens_range[1])\n",
    "#         y2 = Data_2(i, 30, f, Dens_range[2])['g(r)']; plt.plot(x,y2,label=Dens_range[2])\n",
    "#         y3 = Data_2(i, 30, f, Dens_range[3])['g(r)']; plt.plot(x,y3,label=Dens_range[3])\n",
    "#         y4 = Data_2(i, 30, f, Dens_range[4])['g(r)']; plt.plot(x,y4,label=Dens_range[4])\n",
    "#         y5 = Data_2(i, 30, f, Dens_range[5])['g(r)']; plt.plot(x,y5,label=Dens_range[5])\n",
    "#         y6 = Data_2(i, 30, f, Dens_range[6])['g(r)']; plt.plot(x,y6,label=Dens_range[6])\n",
    "#         y7 = Data_2(i, 30, f, Dens_range[7])['g(r)']; plt.plot(x,y7,label=Dens_range[7])\n",
    "#         y8 = Data_2(i, 30, f, Dens_range[8])['g(r)']; plt.plot(x,y8,label=Dens_range[8])\n",
    "#         y9 = Data_2(i, 30, f, Dens_range[9])['g(r)']; plt.plot(x,y9,label=Dens_range[9])\n",
    "#         y10 = Data_2(i, 30, f, Dens_range[10])['g(r)']; plt.plot(x,y10,label=Dens_range[10])\n",
    "#         y11 = Data_2(i, 30, f, Dens_range[11])['g(r)']; plt.plot(x,y11,label=Dens_range[11])\n",
    "#         y12 = Data_2(i, 30, f, Dens_range[12])['g(r)']; plt.plot(x,y12,label=Dens_range[12])\n",
    "#         y13 = Data_2(i, 30, f, Dens_range[13])['g(r)']; plt.plot(x,y13,label=Dens_range[13])\n",
    "#         y14 = Data_2(i, 30, f, Dens_range[14])['g(r)']; plt.plot(x,y14,label=Dens_range[14])\n",
    "#         y15 = Data_2(i, 30, f, Dens_range[15])['g(r)']; plt.plot(x,y15,label=Dens_range[15])\n",
    "\n",
    "#         plt.xlabel(\"r\"); plt.ylabel('g(r)');\n",
    "#         plt.title('f='+str(f)+' t='+str(i))\n",
    "#         plt.legend(loc=0, ncol=2);\n",
    "#         #     plt.savefig('./results/snapshots/coordination_analysis/f_'+str(Frac)+'/b_'+str(Bead)+'/d_'+str(D)+'.png');\n",
    "#         plt.show()"
   ]
  },
  {
   "cell_type": "code",
   "execution_count": 10,
   "metadata": {},
   "outputs": [],
   "source": [
    "def GRer(Inters, Beads, Fracs, Dens):\n",
    "\n",
    "    for t in Inters:\n",
    "        for f in Fracs:        \n",
    "            f = int((1-f)*10%10)\n",
    "            for d in Dens:                \n",
    "                \n",
    "                x = Data_2(t, Beads[0], f, d)['Pair Separation Distance'] \n",
    "\n",
    "                y0 = Data_2(t, Beads[0], f, d)['g(r)']; plt.plot(x,y0,label=Beads[0])\n",
    "                y1 = Data_2(t, Beads[1], f, d)['g(r)']; plt.plot(x,y1,label=Beads[1])\n",
    "                y2 = Data_2(t, Beads[2], f, d)['g(r)']; plt.plot(x,y2,label=Beads[2])\n",
    "                y3 = Data_2(t, Beads[3], f, d)['g(r)']; plt.plot(x,y3,label=Beads[3])\n",
    "                y4 = Data_2(t, Beads[4], f, d)['g(r)']; plt.plot(x,y4,label=Beads[4])\n",
    "                y5 = Data_2(t, Beads[5], f, d)['g(r)']; plt.plot(x,y5,label=Beads[5])\n",
    "                y6 = Data_2(t, Beads[6], f, d)['g(r)']; plt.plot(x,y6,label=Beads[6])\n",
    "                y7 = Data_2(t, Beads[7], f, d)['g(r)']; plt.plot(x,y7,label=Beads[7])\n",
    "\n",
    "                plt.xlabel(\"r\"); plt.ylabel('g(r)');\n",
    "                plt.title('t='+str(t)+' f='+str(f)+' d='+str(d))\n",
    "                plt.legend(loc=0, ncol=2);\n",
    "                plt.savefig(f'./centros_de_massas/{t}/rdfs/grs/f_{f}-d_{d}.png')\n",
    "                plt.show() "
   ]
  },
  {
   "cell_type": "code",
   "execution_count": 9,
   "metadata": {},
   "outputs": [
    {
     "ename": "NameError",
     "evalue": "name 'Beads_range' is not defined",
     "output_type": "error",
     "traceback": [
      "\u001b[1;31m---------------------------------------------------------------------------\u001b[0m",
      "\u001b[1;31mNameError\u001b[0m                                 Traceback (most recent call last)",
      "\u001b[1;32m<ipython-input-9-5c9655b3c00b>\u001b[0m in \u001b[0;36m<module>\u001b[1;34m\u001b[0m\n\u001b[1;32m----> 1\u001b[1;33m \u001b[0mGRer\u001b[0m\u001b[1;33m(\u001b[0m\u001b[0minters\u001b[0m\u001b[1;33m,\u001b[0m \u001b[0mbeads_range\u001b[0m\u001b[1;33m,\u001b[0m \u001b[0mfrac_range\u001b[0m\u001b[1;33m,\u001b[0m \u001b[0mdens_range\u001b[0m\u001b[1;33m)\u001b[0m\u001b[1;33m\u001b[0m\u001b[1;33m\u001b[0m\u001b[0m\n\u001b[0m",
      "\u001b[1;32m<ipython-input-8-7cdbbe14b5b7>\u001b[0m in \u001b[0;36mGRer\u001b[1;34m(Inters, Beads, Fracs, Dens)\u001b[0m\n\u001b[0;32m      8\u001b[0m                 \u001b[0mx\u001b[0m \u001b[1;33m=\u001b[0m \u001b[0mData_2\u001b[0m\u001b[1;33m(\u001b[0m\u001b[0mt\u001b[0m\u001b[1;33m,\u001b[0m \u001b[0mBeads\u001b[0m\u001b[1;33m[\u001b[0m\u001b[1;36m0\u001b[0m\u001b[1;33m]\u001b[0m\u001b[1;33m,\u001b[0m \u001b[0mf\u001b[0m\u001b[1;33m,\u001b[0m \u001b[0md\u001b[0m\u001b[1;33m)\u001b[0m\u001b[1;33m[\u001b[0m\u001b[1;34m'Pair Separation Distance'\u001b[0m\u001b[1;33m]\u001b[0m\u001b[1;33m\u001b[0m\u001b[1;33m\u001b[0m\u001b[0m\n\u001b[0;32m      9\u001b[0m \u001b[1;33m\u001b[0m\u001b[0m\n\u001b[1;32m---> 10\u001b[1;33m                 \u001b[0my0\u001b[0m \u001b[1;33m=\u001b[0m \u001b[0mData_2\u001b[0m\u001b[1;33m(\u001b[0m\u001b[0mt\u001b[0m\u001b[1;33m,\u001b[0m \u001b[0mBeads\u001b[0m\u001b[1;33m[\u001b[0m\u001b[1;36m0\u001b[0m\u001b[1;33m]\u001b[0m\u001b[1;33m,\u001b[0m \u001b[0mf\u001b[0m\u001b[1;33m,\u001b[0m \u001b[0md\u001b[0m\u001b[1;33m)\u001b[0m\u001b[1;33m[\u001b[0m\u001b[1;34m'g(r)'\u001b[0m\u001b[1;33m]\u001b[0m\u001b[1;33m;\u001b[0m \u001b[0mplt\u001b[0m\u001b[1;33m.\u001b[0m\u001b[0mplot\u001b[0m\u001b[1;33m(\u001b[0m\u001b[0mx\u001b[0m\u001b[1;33m,\u001b[0m\u001b[0my0\u001b[0m\u001b[1;33m,\u001b[0m\u001b[0mlabel\u001b[0m\u001b[1;33m=\u001b[0m\u001b[0mBeads_range\u001b[0m\u001b[1;33m[\u001b[0m\u001b[1;36m0\u001b[0m\u001b[1;33m]\u001b[0m\u001b[1;33m)\u001b[0m\u001b[1;33m\u001b[0m\u001b[1;33m\u001b[0m\u001b[0m\n\u001b[0m\u001b[0;32m     11\u001b[0m                 \u001b[0my1\u001b[0m \u001b[1;33m=\u001b[0m \u001b[0mData_2\u001b[0m\u001b[1;33m(\u001b[0m\u001b[0mt\u001b[0m\u001b[1;33m,\u001b[0m \u001b[0mBeads\u001b[0m\u001b[1;33m[\u001b[0m\u001b[1;36m1\u001b[0m\u001b[1;33m]\u001b[0m\u001b[1;33m,\u001b[0m \u001b[0mf\u001b[0m\u001b[1;33m,\u001b[0m \u001b[0md\u001b[0m\u001b[1;33m)\u001b[0m\u001b[1;33m[\u001b[0m\u001b[1;34m'g(r)'\u001b[0m\u001b[1;33m]\u001b[0m\u001b[1;33m;\u001b[0m \u001b[0mplt\u001b[0m\u001b[1;33m.\u001b[0m\u001b[0mplot\u001b[0m\u001b[1;33m(\u001b[0m\u001b[0mx\u001b[0m\u001b[1;33m,\u001b[0m\u001b[0my1\u001b[0m\u001b[1;33m,\u001b[0m\u001b[0mlabel\u001b[0m\u001b[1;33m=\u001b[0m\u001b[0mBeads_range\u001b[0m\u001b[1;33m[\u001b[0m\u001b[1;36m1\u001b[0m\u001b[1;33m]\u001b[0m\u001b[1;33m)\u001b[0m\u001b[1;33m\u001b[0m\u001b[1;33m\u001b[0m\u001b[0m\n\u001b[0;32m     12\u001b[0m                 \u001b[0my2\u001b[0m \u001b[1;33m=\u001b[0m \u001b[0mData_2\u001b[0m\u001b[1;33m(\u001b[0m\u001b[0mt\u001b[0m\u001b[1;33m,\u001b[0m \u001b[0mBeads\u001b[0m\u001b[1;33m[\u001b[0m\u001b[1;36m2\u001b[0m\u001b[1;33m]\u001b[0m\u001b[1;33m,\u001b[0m \u001b[0mf\u001b[0m\u001b[1;33m,\u001b[0m \u001b[0md\u001b[0m\u001b[1;33m)\u001b[0m\u001b[1;33m[\u001b[0m\u001b[1;34m'g(r)'\u001b[0m\u001b[1;33m]\u001b[0m\u001b[1;33m;\u001b[0m \u001b[0mplt\u001b[0m\u001b[1;33m.\u001b[0m\u001b[0mplot\u001b[0m\u001b[1;33m(\u001b[0m\u001b[0mx\u001b[0m\u001b[1;33m,\u001b[0m\u001b[0my2\u001b[0m\u001b[1;33m,\u001b[0m\u001b[0mlabel\u001b[0m\u001b[1;33m=\u001b[0m\u001b[0mBeads_range\u001b[0m\u001b[1;33m[\u001b[0m\u001b[1;36m2\u001b[0m\u001b[1;33m]\u001b[0m\u001b[1;33m)\u001b[0m\u001b[1;33m\u001b[0m\u001b[1;33m\u001b[0m\u001b[0m\n",
      "\u001b[1;31mNameError\u001b[0m: name 'Beads_range' is not defined"
     ]
    }
   ],
   "source": [
    "GRer(inters, beads_range, frac_range, dens_range)"
   ]
  },
  {
   "cell_type": "code",
   "execution_count": null,
   "metadata": {},
   "outputs": [],
   "source": []
  }
 ],
 "metadata": {
  "kernelspec": {
   "display_name": "Python 3",
   "language": "python",
   "name": "python3"
  },
  "language_info": {
   "codemirror_mode": {
    "name": "ipython",
    "version": 3
   },
   "file_extension": ".py",
   "mimetype": "text/x-python",
   "name": "python",
   "nbconvert_exporter": "python",
   "pygments_lexer": "ipython3",
   "version": "3.8.3"
  }
 },
 "nbformat": 4,
 "nbformat_minor": 4
}
