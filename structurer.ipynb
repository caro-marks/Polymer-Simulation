{
 "cells": [
  {
   "cell_type": "code",
   "execution_count": null,
   "metadata": {},
   "outputs": [],
   "source": [
    "# import subprocess"
   ]
  },
  {
   "cell_type": "code",
   "execution_count": null,
   "metadata": {},
   "outputs": [],
   "source": [
    "# beads_range=[x for x in range(10,50,4) if x not in (38,46)] # # # #    monomer's range\n",
    "# dens_range=[x/100 for x in range(0,81,5) if x>0] # # # #    dens' range\n",
    "# frac_range=[x/100 for x in range(0,100,25) if x!=0] # # # #    frac' range"
   ]
  },
  {
   "cell_type": "code",
   "execution_count": null,
   "metadata": {},
   "outputs": [],
   "source": [
    "# for frac in frac_range:\n",
    "#     for bead in beads_range:\n",
    "#         for dens in dens_range:\n",
    "#             subprocess.call([\"C:/Program Files/OVITO Basic/ovito.exe\",\"frac_\"+str(frac)+\"/m_\"+str(bead)+\"/d_\"+str(dens)+\"/final_snapshot.xyz\"])"
   ]
  },
  {
   "cell_type": "code",
   "execution_count": null,
   "metadata": {},
   "outputs": [],
   "source": []
  }
 ],
 "metadata": {
  "kernelspec": {
   "display_name": "Python 3",
   "language": "python",
   "name": "python3"
  },
  "language_info": {
   "codemirror_mode": {
    "name": "ipython",
    "version": 3
   },
   "file_extension": ".py",
   "mimetype": "text/x-python",
   "name": "python",
   "nbconvert_exporter": "python",
   "pygments_lexer": "ipython3",
   "version": "3.7.6"
  }
 },
 "nbformat": 4,
 "nbformat_minor": 4
}
