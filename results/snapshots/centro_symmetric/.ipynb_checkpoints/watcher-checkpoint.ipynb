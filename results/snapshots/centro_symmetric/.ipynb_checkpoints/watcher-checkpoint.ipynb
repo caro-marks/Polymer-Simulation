{
 "cells": [
  {
   "cell_type": "code",
   "execution_count": null,
   "metadata": {},
   "outputs": [],
   "source": [
    "import pandas as pd\n",
    "import matplotlib.pyplot as plt\n",
    "import seaborn as sns; sns.set()"
   ]
  },
  {
   "cell_type": "code",
   "execution_count": null,
   "metadata": {},
   "outputs": [],
   "source": [
    "# Beads_range=[x for x in range(10,50,4) if x not in (38,46)] # # # #    monomer's range\n",
    "# Dens_range=[x/100 for x in range(0,81,5) if x>0] # # # #    dens' range\n",
    "# Frac_range=[x/100 for x in range(0,100,25) if x!=0] # # # #    frac' range"
   ]
  },
  {
   "cell_type": "code",
   "execution_count": null,
   "metadata": {},
   "outputs": [],
   "source": [
    "# for Frac in Frac_range:\n",
    "\n",
    "#         f = int((1-Frac)*10%10)\n",
    "\n",
    "#         for Bead in Beads_range:\n",
    "\n",
    "#             for Dens in Dens_range:\n",
    "                \n",
    "#                 data = pd.read_table('f_'+str(f)+'/b_'+str(Bead)+'/centroSym_2-d_'+str(Dens)+'.txt', header = 1, index_col = False, delim_whitespace=True)\n",
    "#                 data = data.drop(columns=['0.0.1', '0.0.2', '34.203', '0.0.3', '0.0.4',\n",
    "#                    '0.0.5', '35.493\"', 'Origin=\"-5.419', '-5.098', '-6.419\"',\n",
    "#                    'Properties=id:I:1:centro_symmetry:R:1'])\n",
    "#                 columns = ['x', 'y']\n",
    "#                 data.columns = columns\n",
    "                \n",
    "#                 x = data[columns[0]].values\n",
    "#                 y = data[columns[1]].values"
   ]
  },
  {
   "cell_type": "code",
   "execution_count": null,
   "metadata": {},
   "outputs": [],
   "source": [
    "data = pd.read_table('f_7/b_10/centroSym_2-d_0.7.txt', header = 1, index_col = False, delim_whitespace=True)"
   ]
  },
  {
   "cell_type": "code",
   "execution_count": null,
   "metadata": {},
   "outputs": [],
   "source": [
    "data = data.drop(columns=['0.0.1', '0.0.2', '34.203', '0.0.3', '0.0.4',\n",
    "       '0.0.5', '35.493\"', 'Origin=\"-5.419', '-5.098', '-6.419\"',\n",
    "       'Properties=id:I:1:centro_symmetry:R:1'])"
   ]
  },
  {
   "cell_type": "code",
   "execution_count": null,
   "metadata": {},
   "outputs": [],
   "source": [
    "columns = ['x', 'y']\n",
    "data.columns = columns"
   ]
  },
  {
   "cell_type": "code",
   "execution_count": null,
   "metadata": {},
   "outputs": [],
   "source": [
    "plt.plot(data.x,data.y)"
   ]
  },
  {
   "cell_type": "code",
   "execution_count": null,
   "metadata": {},
   "outputs": [],
   "source": []
  }
 ],
 "metadata": {
  "kernelspec": {
   "display_name": "Python 3",
   "language": "python",
   "name": "python3"
  },
  "language_info": {
   "codemirror_mode": {
    "name": "ipython",
    "version": 3
   },
   "file_extension": ".py",
   "mimetype": "text/x-python",
   "name": "python",
   "nbconvert_exporter": "python",
   "pygments_lexer": "ipython3",
   "version": "3.7.6"
  }
 },
 "nbformat": 4,
 "nbformat_minor": 4
}
